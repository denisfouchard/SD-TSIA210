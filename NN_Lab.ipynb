{
 "cells": [
  {
   "cell_type": "markdown",
   "metadata": {},
   "source": [
    "# TP: MNIST with Neural Networks (NN)"
   ]
  },
  {
   "cell_type": "markdown",
   "metadata": {},
   "source": [
    "By Denis Fouchard and Barthélemy Paléologue"
   ]
  },
  {
   "cell_type": "code",
   "execution_count": 5,
   "metadata": {},
   "outputs": [
    {
     "name": "stdout",
     "output_type": "stream",
     "text": [
      "Using tensorflow version 2.13.0\n",
      "Using keras version 2.13.1\n"
     ]
    }
   ],
   "source": [
    "import numpy as np\n",
    "import tensorflow as tf\n",
    "import keras\n",
    "print(\"Using tensorflow version \" + str(tf.__version__))\n",
    "print(\"Using keras version \" + str(keras.__version__))"
   ]
  },
  {
   "cell_type": "markdown",
   "metadata": {},
   "source": [
    "## Loading and preparing the MNIST dataset\n",
    "Load the MNIST dataset made available by keras.datasets. Check the size of the training and testing sets. \n",
    "\n",
    "<div class='alert alert-block alert-info'>\n",
    "            Code:</div>"
   ]
  },
  {
   "cell_type": "code",
   "execution_count": 6,
   "metadata": {},
   "outputs": [
    {
     "name": "stdout",
     "output_type": "stream",
     "text": [
      "Training images shape: (60000, 28, 28)\n",
      "Training labels shape: (60000,)\n",
      "Test images shape: (10000, 28, 28)\n",
      "Test labels shape: (10000,)\n"
     ]
    }
   ],
   "source": [
    "# The MNSIT dataset is ready to be imported from Keras into RAM\n",
    "# Warning: you cannot do that for larger databases (e.g., ImageNet)\n",
    "from keras.datasets import mnist\n",
    "(train_images, train_labels), (test_images, test_labels) = mnist.load_data()\n",
    "\n",
    "print(\"Training images shape: \" + str(train_images.shape))\n",
    "print(\"Training labels shape: \" + str(train_labels.shape))\n",
    "print(\"Test images shape: \" + str(test_images.shape))\n",
    "print(\"Test labels shape: \" + str(test_labels.shape))\n"
   ]
  },
  {
   "cell_type": "markdown",
   "metadata": {},
   "source": [
    "The MNIST database contains 60,000 training images and 10,000 testing images.\n",
    "Using the pyplot package, visualize the first sample of the training set:\n",
    "\n",
    "<div class='alert alert-block alert-info'>\n",
    "            Code:</div>"
   ]
  },
  {
   "cell_type": "code",
   "execution_count": 7,
   "metadata": {},
   "outputs": [
    {
     "data": {
      "text/plain": [
       "<matplotlib.image.AxesImage at 0x16688fd60>"
      ]
     },
     "execution_count": 7,
     "metadata": {},
     "output_type": "execute_result"
    },
    {
     "data": {
      "image/png": "[encoded data removed]",
      "text/plain": [
       "<Figure size 640x480 with 1 Axes>"
      ]
     },
     "metadata": {},
     "output_type": "display_data"
    }
   ],
   "source": [
    "# Let us visualize the first training sample using the Matplotlib library with the imshow function\n",
    "from matplotlib import pyplot as plt\n",
    "\n",
    "plt.imshow(train_images[0], cmap='gray')"
   ]
  },
  {
   "cell_type": "markdown",
   "metadata": {},
   "source": [
    "The database contains images of handwritten digits. Hence, they belong to one of 10 categories, depending on the digit they represent. \n",
    "Reminder: in order to do multi-class classification, we use the softmax function, which outputs a multinomial probability distribution. That means that the output to our model will be a vector of size $10$, containing probabilities (meaning that the elements of the vector will be positive sum to $1$).\n",
    "For easy computation, we want to true labels to be represented with the same format: that is what we call **one-hot encoding**. For example, if an image $\\mathbf{x}$ represents the digit $5$, we have the corresponding one_hot label (careful, $0$ will be the first digit): \n",
    "$$ \\mathbf{y} = [0, 0, 0, 0, 0, 1, 0, 0, 0, 0] $$\n",
    "Here, you need to turn train and test labels to one-hot encoding using the following function: \n",
    "\n",
    "<div class='alert alert-block alert-info'>\n",
    "            Code:</div>"
   ]
  },
  {
   "cell_type": "code",
   "execution_count": 10,
   "metadata": {},
   "outputs": [
    {
     "data": {
      "text/plain": [
       "array([[1., 0.],\n",
       "       [1., 0.],\n",
       "       [1., 0.],\n",
       "       [1., 0.],\n",
       "       [1., 0.],\n",
       "       [0., 1.],\n",
       "       [1., 0.],\n",
       "       [1., 0.],\n",
       "       [1., 0.],\n",
       "       [1., 0.]], dtype=float32)"
      ]
     },
     "execution_count": 10,
     "metadata": {},
     "output_type": "execute_result"
    }
   ],
   "source": [
    "from keras.utils import to_categorical\n",
    "\n",
    "# to one-hot encoding\n",
    "train_labels = to_categorical(train_labels)\n",
    "test_labels = to_categorical(test_labels)\n",
    "\n",
    "train_labels[0]"
   ]
  },
  {
   "cell_type": "markdown",
   "metadata": {},
   "source": [
    "Images are black and white, with size $28 \\times 28$. We will work with them using a simple linear classification model, meaning that we will have them as vectors of size $(784)$.\n",
    "You should then transform the images to the size $(784)$ using the numpy function ```reshape```.\n",
    "\n",
    "Then, after casting the pixels to floats, normalize the images so that they have zero-mean and unitary deviation. Be careful to your methodology: while you have access to training data, you may not have access to testing data, and must avoid using any statistic on the testing dataset.\n",
    "\n",
    "<div class='alert alert-block alert-info'>\n",
    "            Code:</div>"
   ]
  },
  {
   "cell_type": "code",
   "execution_count": 11,
   "metadata": {},
   "outputs": [
    {
     "data": {
      "text/plain": [
       "array([-0.42407447, -0.42407447, -0.42407447, -0.42407447, -0.42407447,\n",
       "       -0.42407447, -0.42407447, -0.42407447, -0.42407447, -0.42407447,\n",
       "       -0.42407447, -0.42407447, -0.42407447, -0.42407447, -0.42407447,\n",
       "       -0.42407447, -0.42407447, -0.42407447, -0.42407447, -0.42407447,\n",
       "       -0.42407447, -0.42407447, -0.42407447, -0.42407447, -0.42407447,\n",
       "       -0.42407447, -0.42407447, -0.42407447, -0.42407447, -0.42407447,\n",
       "       -0.42407447, -0.42407447, -0.42407447, -0.42407447, -0.42407447,\n",
       "       -0.42407447, -0.42407447, -0.42407447, -0.42407447, -0.42407447,\n",
       "       -0.42407447, -0.42407447, -0.42407447, -0.42407447, -0.42407447,\n",
       "       -0.42407447, -0.42407447, -0.42407447, -0.42407447, -0.42407447,\n",
       "       -0.42407447, -0.42407447, -0.42407447, -0.42407447, -0.42407447,\n",
       "       -0.42407447, -0.42407447, -0.42407447, -0.42407447, -0.42407447,\n",
       "       -0.42407447, -0.42407447, -0.42407447, -0.42407447, -0.42407447,\n",
       "       -0.42407447, -0.42407447, -0.42407447, -0.42407447, -0.42407447,\n",
       "       -0.42407447, -0.42407447, -0.42407447, -0.42407447, -0.42407447,\n",
       "       -0.42407447, -0.42407447, -0.42407447, -0.42407447, -0.42407447,\n",
       "       -0.42407447, -0.42407447, -0.42407447, -0.42407447, -0.42407447,\n",
       "       -0.42407447, -0.42407447, -0.42407447, -0.42407447, -0.42407447,\n",
       "       -0.42407447, -0.42407447, -0.42407447, -0.42407447, -0.42407447,\n",
       "       -0.42407447, -0.42407447, -0.42407447, -0.42407447, -0.42407447,\n",
       "       -0.42407447, -0.42407447, -0.42407447, -0.42407447, -0.42407447,\n",
       "       -0.42407447, -0.42407447, -0.42407447, -0.42407447, -0.42407447,\n",
       "       -0.42407447, -0.42407447, -0.42407447, -0.42407447, -0.42407447,\n",
       "       -0.42407447, -0.42407447, -0.42407447, -0.42407447, -0.42407447,\n",
       "       -0.42407447, -0.42407447, -0.42407447, -0.42407447, -0.42407447,\n",
       "       -0.42407447, -0.42407447, -0.42407447, -0.42407447, -0.42407447,\n",
       "       -0.42407447, -0.42407447, -0.42407447, -0.42407447, -0.42407447,\n",
       "       -0.42407447, -0.42407447, -0.42407447, -0.42407447, -0.42407447,\n",
       "       -0.42407447, -0.42407447, -0.42407447, -0.42407447, -0.42407447,\n",
       "       -0.42407447, -0.42407447, -0.42407447, -0.42407447, -0.42407447,\n",
       "       -0.42407447, -0.42407447, -0.38589072, -0.19497195, -0.19497195,\n",
       "       -0.19497195,  1.1796432 ,  1.3069223 ,  1.8033112 , -0.0931486 ,\n",
       "        1.6887599 ,  2.8215446 ,  2.7197213 ,  1.1923711 , -0.42407447,\n",
       "       -0.42407447, -0.42407447, -0.42407447, -0.42407447, -0.42407447,\n",
       "       -0.42407447, -0.42407447, -0.42407447, -0.42407447, -0.42407447,\n",
       "       -0.42407447, -0.04223692,  0.03413058,  0.77234983,  1.5360249 ,\n",
       "        1.7396716 ,  2.7960887 ,  2.7960887 ,  2.7960887 ,  2.7960887 ,\n",
       "        2.7960887 ,  2.439707  ,  1.7651274 ,  2.7960887 ,  2.6560817 ,\n",
       "        2.0578694 ,  0.3905123 , -0.42407447, -0.42407447, -0.42407447,\n",
       "       -0.42407447, -0.42407447, -0.42407447, -0.42407447, -0.42407447,\n",
       "       -0.42407447, -0.42407447, -0.42407447,  0.19959353,  2.60517   ,\n",
       "        2.7960887 ,  2.7960887 ,  2.7960887 ,  2.7960887 ,  2.7960887 ,\n",
       "        2.7960887 ,  2.7960887 ,  2.7960887 ,  2.770633  ,  0.7596219 ,\n",
       "        0.61961484,  0.61961484,  0.28868896,  0.07231434, -0.42407447,\n",
       "       -0.42407447, -0.42407447, -0.42407447, -0.42407447, -0.42407447,\n",
       "       -0.42407447, -0.42407447, -0.42407447, -0.42407447, -0.42407447,\n",
       "       -0.42407447, -0.19497195,  2.3633397 ,  2.7960887 ,  2.7960887 ,\n",
       "        2.7960887 ,  2.7960887 ,  2.7960887 ,  2.0960534 ,  1.8924066 ,\n",
       "        2.7197213 ,  2.6433537 , -0.42407447, -0.42407447, -0.42407447,\n",
       "       -0.42407447, -0.42407447, -0.42407447, -0.42407447, -0.42407447,\n",
       "       -0.42407447, -0.42407447, -0.42407447, -0.42407447, -0.42407447,\n",
       "       -0.42407447, -0.42407447, -0.42407447, -0.42407447, -0.42407447,\n",
       "        0.594159  ,  1.5614808 ,  0.93781275,  2.7960887 ,  2.7960887 ,\n",
       "        2.1851487 , -0.28406736, -0.42407447,  0.12322602,  1.5360249 ,\n",
       "       -0.42407447, -0.42407447, -0.42407447, -0.42407447, -0.42407447,\n",
       "       -0.42407447, -0.42407447, -0.42407447, -0.42407447, -0.42407447,\n",
       "       -0.42407447, -0.42407447, -0.42407447, -0.42407447, -0.42407447,\n",
       "       -0.42407447, -0.42407447, -0.42407447, -0.42407447, -0.24588361,\n",
       "       -0.41134655,  1.5360249 ,  2.7960887 ,  0.72143817, -0.42407447,\n",
       "       -0.42407447, -0.42407447, -0.42407447, -0.42407447, -0.42407447,\n",
       "       -0.42407447, -0.42407447, -0.42407447, -0.42407447, -0.42407447,\n",
       "       -0.42407447, -0.42407447, -0.42407447, -0.42407447, -0.42407447,\n",
       "       -0.42407447, -0.42407447, -0.42407447, -0.42407447, -0.42407447,\n",
       "       -0.42407447, -0.42407447, -0.42407447, -0.42407447,  1.3451061 ,\n",
       "        2.7960887 ,  1.9942299 , -0.39861864, -0.42407447, -0.42407447,\n",
       "       -0.42407447, -0.42407447, -0.42407447, -0.42407447, -0.42407447,\n",
       "       -0.42407447, -0.42407447, -0.42407447, -0.42407447, -0.42407447,\n",
       "       -0.42407447, -0.42407447, -0.42407447, -0.42407447, -0.42407447,\n",
       "       -0.42407447, -0.42407447, -0.42407447, -0.42407447, -0.42407447,\n",
       "       -0.42407447, -0.42407447, -0.28406736,  1.9942299 ,  2.7960887 ,\n",
       "        0.4668798 , -0.42407447, -0.42407447, -0.42407447, -0.42407447,\n",
       "       -0.42407447, -0.42407447, -0.42407447, -0.42407447, -0.42407447,\n",
       "       -0.42407447, -0.42407447, -0.42407447, -0.42407447, -0.42407447,\n",
       "       -0.42407447, -0.42407447, -0.42407447, -0.42407447, -0.42407447,\n",
       "       -0.42407447, -0.42407447, -0.42407447, -0.42407447, -0.42407447,\n",
       "       -0.42407447,  0.02140267,  2.6433537 ,  2.439707  ,  1.6123924 ,\n",
       "        0.95054066, -0.41134655, -0.42407447, -0.42407447, -0.42407447,\n",
       "       -0.42407447, -0.42407447, -0.42407447, -0.42407447, -0.42407447,\n",
       "       -0.42407447, -0.42407447, -0.42407447, -0.42407447, -0.42407447,\n",
       "       -0.42407447, -0.42407447, -0.42407447, -0.42407447, -0.42407447,\n",
       "       -0.42407447, -0.42407447, -0.42407447, -0.42407447, -0.42407447,\n",
       "        0.6068869 ,  2.630626  ,  2.7960887 ,  2.7960887 ,  1.0905478 ,\n",
       "       -0.10587651, -0.42407447, -0.42407447, -0.42407447, -0.42407447,\n",
       "       -0.42407447, -0.42407447, -0.42407447, -0.42407447, -0.42407447,\n",
       "       -0.42407447, -0.42407447, -0.42407447, -0.42407447, -0.42407447,\n",
       "       -0.42407447, -0.42407447, -0.42407447, -0.42407447, -0.42407447,\n",
       "       -0.42407447, -0.42407447, -0.42407447, -0.42407447,  0.14868185,\n",
       "        1.9433182 ,  2.7960887 ,  2.7960887 ,  1.4851133 , -0.08042068,\n",
       "       -0.42407447, -0.42407447, -0.42407447, -0.42407447, -0.42407447,\n",
       "       -0.42407447, -0.42407447, -0.42407447, -0.42407447, -0.42407447,\n",
       "       -0.42407447, -0.42407447, -0.42407447, -0.42407447, -0.42407447,\n",
       "       -0.42407447, -0.42407447, -0.42407447, -0.42407447, -0.42407447,\n",
       "       -0.42407447, -0.42407447, -0.42407447, -0.22042778,  0.7596219 ,\n",
       "        2.783361  ,  2.7960887 ,  1.9560462 , -0.42407447, -0.42407447,\n",
       "       -0.42407447, -0.42407447, -0.42407447, -0.42407447, -0.42407447,\n",
       "       -0.42407447, -0.42407447, -0.42407447, -0.42407447, -0.42407447,\n",
       "       -0.42407447, -0.42407447, -0.42407447, -0.42407447, -0.42407447,\n",
       "       -0.42407447, -0.42407447, -0.42407447, -0.42407447, -0.42407447,\n",
       "       -0.42407447, -0.42407447, -0.42407447,  2.745177  ,  2.7960887 ,\n",
       "        2.745177  ,  0.3905123 , -0.42407447, -0.42407447, -0.42407447,\n",
       "       -0.42407447, -0.42407447, -0.42407447, -0.42407447, -0.42407447,\n",
       "       -0.42407447, -0.42407447, -0.42407447, -0.42407447, -0.42407447,\n",
       "       -0.42407447, -0.42407447, -0.42407447, -0.42407447, -0.42407447,\n",
       "       -0.42407447, -0.42407447, -0.42407447,  0.16140977,  1.2305548 ,\n",
       "        1.9051346 ,  2.7960887 ,  2.7960887 ,  2.2106047 , -0.39861864,\n",
       "       -0.42407447, -0.42407447, -0.42407447, -0.42407447, -0.42407447,\n",
       "       -0.42407447, -0.42407447, -0.42407447, -0.42407447, -0.42407447,\n",
       "       -0.42407447, -0.42407447, -0.42407447, -0.42407447, -0.42407447,\n",
       "       -0.42407447, -0.42407447, -0.42407447, -0.42407447,  0.07231434,\n",
       "        1.4596574 ,  2.4906187 ,  2.7960887 ,  2.7960887 ,  2.7960887 ,\n",
       "        2.757905  ,  1.8924066 , -0.42407447, -0.42407447, -0.42407447,\n",
       "       -0.42407447, -0.42407447, -0.42407447, -0.42407447, -0.42407447,\n",
       "       -0.42407447, -0.42407447, -0.42407447, -0.42407447, -0.42407447,\n",
       "       -0.42407447, -0.42407447, -0.42407447, -0.42407447, -0.42407447,\n",
       "       -0.11860443,  1.0269082 ,  2.3887954 ,  2.7960887 ,  2.7960887 ,\n",
       "        2.7960887 ,  2.7960887 ,  2.134237  ,  0.5687032 , -0.42407447,\n",
       "       -0.42407447, -0.42407447, -0.42407447, -0.42407447, -0.42407447,\n",
       "       -0.42407447, -0.42407447, -0.42407447, -0.42407447, -0.42407447,\n",
       "       -0.42407447, -0.42407447, -0.42407447, -0.42407447, -0.42407447,\n",
       "       -0.42407447, -0.13133235,  0.41596812,  2.286972  ,  2.7960887 ,\n",
       "        2.7960887 ,  2.7960887 ,  2.7960887 ,  2.0960534 ,  0.6068869 ,\n",
       "       -0.39861864, -0.42407447, -0.42407447, -0.42407447, -0.42407447,\n",
       "       -0.42407447, -0.42407447, -0.42407447, -0.42407447, -0.42407447,\n",
       "       -0.42407447, -0.42407447, -0.42407447, -0.42407447, -0.42407447,\n",
       "       -0.42407447, -0.42407447, -0.19497195,  1.7523994 ,  2.3633397 ,\n",
       "        2.7960887 ,  2.7960887 ,  2.7960887 ,  2.7960887 ,  2.0578694 ,\n",
       "        0.594159  , -0.3095232 , -0.42407447, -0.42407447, -0.42407447,\n",
       "       -0.42407447, -0.42407447, -0.42407447, -0.42407447, -0.42407447,\n",
       "       -0.42407447, -0.42407447, -0.42407447, -0.42407447, -0.42407447,\n",
       "       -0.42407447, -0.42407447, -0.42407447,  0.27596104,  1.7651274 ,\n",
       "        2.452435  ,  2.7960887 ,  2.7960887 ,  2.7960887 ,  2.7960887 ,\n",
       "        2.6815376 ,  1.2687386 , -0.28406736, -0.42407447, -0.42407447,\n",
       "       -0.42407447, -0.42407447, -0.42407447, -0.42407447, -0.42407447,\n",
       "       -0.42407447, -0.42407447, -0.42407447, -0.42407447, -0.42407447,\n",
       "       -0.42407447, -0.42407447, -0.42407447, -0.42407447, -0.42407447,\n",
       "       -0.42407447,  1.3069223 ,  2.7960887 ,  2.7960887 ,  2.7960887 ,\n",
       "        2.274244  ,  1.2941945 ,  1.2560107 , -0.22042778, -0.42407447,\n",
       "       -0.42407447, -0.42407447, -0.42407447, -0.42407447, -0.42407447,\n",
       "       -0.42407447, -0.42407447, -0.42407447, -0.42407447, -0.42407447,\n",
       "       -0.42407447, -0.42407447, -0.42407447, -0.42407447, -0.42407447,\n",
       "       -0.42407447, -0.42407447, -0.42407447, -0.42407447, -0.42407447,\n",
       "       -0.42407447, -0.42407447, -0.42407447, -0.42407447, -0.42407447,\n",
       "       -0.42407447, -0.42407447, -0.42407447, -0.42407447, -0.42407447,\n",
       "       -0.42407447, -0.42407447, -0.42407447, -0.42407447, -0.42407447,\n",
       "       -0.42407447, -0.42407447, -0.42407447, -0.42407447, -0.42407447,\n",
       "       -0.42407447, -0.42407447, -0.42407447, -0.42407447, -0.42407447,\n",
       "       -0.42407447, -0.42407447, -0.42407447, -0.42407447, -0.42407447,\n",
       "       -0.42407447, -0.42407447, -0.42407447, -0.42407447, -0.42407447,\n",
       "       -0.42407447, -0.42407447, -0.42407447, -0.42407447, -0.42407447,\n",
       "       -0.42407447, -0.42407447, -0.42407447, -0.42407447, -0.42407447,\n",
       "       -0.42407447, -0.42407447, -0.42407447, -0.42407447, -0.42407447,\n",
       "       -0.42407447, -0.42407447, -0.42407447, -0.42407447, -0.42407447,\n",
       "       -0.42407447, -0.42407447, -0.42407447, -0.42407447, -0.42407447,\n",
       "       -0.42407447, -0.42407447, -0.42407447, -0.42407447, -0.42407447,\n",
       "       -0.42407447, -0.42407447, -0.42407447, -0.42407447, -0.42407447,\n",
       "       -0.42407447, -0.42407447, -0.42407447, -0.42407447, -0.42407447,\n",
       "       -0.42407447, -0.42407447, -0.42407447, -0.42407447], dtype=float32)"
      ]
     },
     "execution_count": 11,
     "metadata": {},
     "output_type": "execute_result"
    }
   ],
   "source": [
    "# Reshape images to vectors of pixels\n",
    "img_rows, img_cols = train_images.shape[1], train_images.shape[2]\n",
    "train_images = train_images.reshape(train_images.shape[0], img_rows * img_cols)\n",
    "test_images = test_images.reshape(test_images.shape[0], img_rows * img_cols)\n",
    "\n",
    "\n",
    "\n",
    "# Cast pixels from uint8 to float32\n",
    "train_images = train_images.astype('float32')\n",
    "\n",
    "# Now let us normalize the images so that they have zero mean and standard deviation\n",
    "# Hint: are real testing data statistics known at training time ?\n",
    "mean = np.mean(train_images)\n",
    "std = np.std(train_images)\n",
    "\n",
    "train_images = (train_images - mean) / std\n",
    "test_images = (test_images - mean) / std\n",
    "\n",
    "train_images[0]"
   ]
  },
  {
   "cell_type": "markdown",
   "metadata": {},
   "source": [
    "# First part: working with Numpy\n",
    "\n",
    "Look at this [cheatsheet](https://s3.amazonaws.com/assets.datacamp.com/blog_assets/Numpy_Python_Cheat_Sheet.pdf) for some basic information on how to use numpy.\n",
    "\n",
    "### Defining the model \n",
    "\n",
    "We will here create a simple, linear classification model. We will take each pixel in the image as an input feature (making the size of the input to be $784$) and transform these features with a weight matrix $\\mathbf{W}$ and a bias vector $\\mathbf{b}$. Since there is $10$ possible classes, we want to obtain $10$ scores. Then, \n",
    "$$ \\mathbf{W} \\in \\mathbb{R}^{784 \\times 10} $$\n",
    "$$ \\mathbf{b} \\in \\mathbb{R}^{10} $$\n",
    "\n",
    "and our scores are obtained with:\n",
    "$$ \\mathbf{z} = \\mathbf{W}^{T} \\mathbf{x} +  \\mathbf{b} $$\n",
    "\n",
    "where $\\mathbf{x} \\in \\mathbb{R}^{784}$ is the input vector representing an image.\n",
    "We note $\\mathbf{y} \\in \\mathbb{R}^{10}$ as the target one_hot vector. \n",
    "\n",
    "Here, you fist need to initialize $\\mathbf{W}$ and $\\mathbf{b}$ using ```np.random.normal``` and ```np.zeros```, then compute $\\mathbf{z}$.\n",
    "<div class='alert alert-block alert-info'>\n",
    "            Code:</div>"
   ]
  },
  {
   "cell_type": "code",
   "execution_count": 12,
   "metadata": {},
   "outputs": [],
   "source": [
    "# To avoid implementing a complicated gradient back-propagation,\n",
    "# we will try a very simple architecture with one layer \n",
    "def initLayer(n_input,n_output):\n",
    "    \"\"\"\n",
    "    Initialize the weights, return the number of parameters\n",
    "    Inputs: n_input: the number of input units - int\n",
    "          : n_output: the number of output units - int\n",
    "    Outputs: W: a matrix of weights for the layer - numpy ndarray\n",
    "           : b: a vector bias for the layer - numpy ndarray\n",
    "           : nb_params: the number of parameters  - int\n",
    "    \"\"\"\n",
    "\n",
    "    \n",
    "     # Create W at the right size with a normal distribution\n",
    "    W = np.random.normal(0, 1, (n_input, n_output))\n",
    "    # Create b at the right size, with zeros\n",
    "    b = np.zeros((n_output,))\n",
    "    nb_params = n_input*n_output + n_output\n",
    "    return W, b, nb_params"
   ]
  },
  {
   "cell_type": "code",
   "execution_count": 13,
   "metadata": {},
   "outputs": [],
   "source": [
    "n_training = train_images.shape[0] \n",
    "n_feature = train_images.shape[1]\n",
    "n_labels = 10\n",
    "W, b, nb_params = initLayer(n_feature, n_labels)"
   ]
  },
  {
   "cell_type": "markdown",
   "metadata": {},
   "source": [
    "<div class='alert alert-block alert-info'>\n",
    "            Code:</div>"
   ]
  },
  {
   "cell_type": "code",
   "execution_count": 14,
   "metadata": {},
   "outputs": [],
   "source": [
    "def forward(W, b, X):\n",
    "    \"\"\"\n",
    "    Perform the forward propagation\n",
    "    Inputs: W: the weights - numpy ndarray\n",
    "          : b: the bias - numpy ndarray\n",
    "          : X: the batch - numpy ndarray\n",
    "    Outputs: z: outputs - numpy ndarray\n",
    "    \"\"\"\n",
    "    \n",
    "    z = np.dot(X, W) + b\n",
    "\n",
    "    return z"
   ]
  },
  {
   "cell_type": "markdown",
   "metadata": {},
   "source": [
    "### Computing the output \n",
    "\n",
    "To obtain classification probabilities, we use the softmax function:\n",
    "$$ \\mathbf{o} = softmax(\\mathbf{z}) \\text{         with          } o_i = \\frac{\\exp(z_i)}{\\sum_{j=0}^{9} \\exp(z_j)} $$\n",
    "\n",
    "The usual difficulty with the softmax function is the possibility of overflow when the scores $z_i$ are already large. Since a softmax is not affected by a shift affecting the whole vector $\\mathbf{z}$:\n",
    "$$ \\frac{\\exp(z_i - c)}{\\sum_{j=0}^{9} \\exp(z_j - c)} =  \\frac{\\exp(c) \\exp(z_i)}{\\exp(c) \\sum_{j=0}^{9} \\exp(z_j)} = \\frac{\\exp(z_i)}{\\sum_{j=0}^{9} \\exp(z_j)}$$\n",
    "what trick can we use to ensure we will not encounter any overflow ? \n",
    "<div class='alert alert-block alert-info'>\n",
    "            Code:</div>"
   ]
  },
  {
   "cell_type": "markdown",
   "metadata": {},
   "source": [
    "We can subtract the maximum output value from the rest so we take the exp of negative numbers, preventing it to overflow."
   ]
  },
  {
   "cell_type": "code",
   "execution_count": 15,
   "metadata": {},
   "outputs": [
    {
     "data": {
      "text/plain": [
       "array([5.60279617e-09, 9.99999953e-01, 4.13993752e-08])"
      ]
     },
     "execution_count": 15,
     "metadata": {},
     "output_type": "execute_result"
    }
   ],
   "source": [
    "def softmax(z):\n",
    "    \"\"\"\n",
    "    Perform the softmax transformation to the pre-activation values\n",
    "    Inputs: z: the pre-activation values - numpy ndarray\n",
    "    Outputs: out: the activation values - numpy ndarray\n",
    "    \"\"\"\n",
    "    \n",
    "    max_value = np.max(z)\n",
    "    z = z - max_value\n",
    "    exp_z = np.exp(z)\n",
    "    sum_exp_z = np.sum(exp_z)\n",
    "    out = exp_z / sum_exp_z\n",
    "    return out\n",
    "\n",
    "softmax(np.array([1, 20, 3]))"
   ]
  },
  {
   "cell_type": "markdown",
   "metadata": {},
   "source": [
    "### Making updates\n",
    "\n",
    "We define a learning rate $\\eta$. The goal is to be able to apply updates:\n",
    "$$ \\mathbf{W}^{t+1} = \\mathbf{W}^{t} + \\nabla_{\\mathbf{W}} l_{MLE} $$\n",
    "\n",
    "In order to do this, we will compute this gradient (and the bias) in the function ```update```. In the next function ```updateParams```, we will actually apply the update with regularization. \n",
    "\n",
    "Reminder: the gradient $\\nabla_{\\mathbf{W}} l_{MLE}$ is the matrix containing the partial derivatives \n",
    "$$ \\left[\\frac{\\delta l_{MLE}}{\\delta W_{ij}}\\right]_{i=1..784, j=1..10} $$\n",
    "**Remark**: Careful, the usual way of implementing this in python has the dimensions of $\\mathbf{W}$ reversed compared to the notation of the slides.\n",
    "\n",
    "Coordinate by coordinate, we obtain the following update: \n",
    "$$ W_{ij}^{t+1} = W_{ij}^{t} + \\eta \\frac{\\delta l_{MLE}}{\\delta W_{ij}} $$\n",
    "\n",
    "Via the chain rule, we obtain, for an input feature $i \\in [0, 783]$ and a output class $j \\in [0, 9]$: $$\\frac{\\delta l_{MLE}}{\\delta W_{ij}} = \\frac{\\delta l_{MLE}}{\\delta z_{j}} \\frac{\\delta z_j}{\\delta W_{ij}}$$ \n",
    "\n",
    "It's easy to compute that $\\frac{\\delta z_j}{\\delta W_{ij}} = x_i$\n",
    "\n",
    "We compute the softmax derivative, to obtain:\n",
    "$$ \\nabla_{\\mathbf{z}} l_{MLE} = \\mathbf{o} - \\mathbf{y} $$\n",
    "\n",
    "Hence, $\\frac{\\delta l_{MLE}}{\\delta z_{j}} = o_j - y_j$ and we obtain that $$\\frac{\\delta l_{MLE}}{\\delta W_{ij}} = (o_j - y_j) x_i$$\n",
    "\n",
    "This can easily be written as a scalar product, and a similar computation (even easier, actually) can be done for $\\mathbf{b}$. Noting $\\nabla_{\\mathbf{z}} l_{MLE} = \\mathbf{o} - \\mathbf{y}$ as ```grad``` in the following function, compute the gradients $\\nabla_{\\mathbf{W}} l_{MLE}$ and $\\nabla_{\\mathbf{b}} l_{MLE}$ in order to call the function ```updateParams```.\n",
    "\n",
    "Note: the regularizer and the weight_decay $\\lambda$ are used in ```updateParams```.\n",
    "\n",
    "<div class='alert alert-block alert-info'>\n",
    "            Code:</div>"
   ]
  },
  {
   "cell_type": "code",
   "execution_count": 16,
   "metadata": {},
   "outputs": [],
   "source": [
    "def update(eta, W, b, grad, X, regularizer, weight_decay):\n",
    "    \"\"\"\n",
    "    Perform the update of the parameters\n",
    "    Inputs: eta: the step-size of the gradient descent - float \n",
    "          : W: the weights - ndarray\n",
    "          : b: the bias -  ndarray\n",
    "          : grad: the gradient of the activations w.r.t. to the loss -  list of ndarray\n",
    "          : X: the data -  ndarray\n",
    "          : regularizer: 'L2' or None - the regularizer to be used in updateParams\n",
    "          : weight_decay: the weight decay to be used in updateParams - float\n",
    "    Outputs: W: the weights updated -  ndarray\n",
    "           : b: the bias updated -  nd\n",
    "    return outarray\n",
    "    \"\"\"\n",
    "    grad_w = X.reshape(-1, 1) @ grad.reshape(1, -1)\n",
    "\n",
    "    grad_b = grad\n",
    "        \n",
    "    W = updateParams(W, grad_w, eta, regularizer, weight_decay)\n",
    "    b = updateParams(b, grad_b, eta, regularizer, weight_decay)\n",
    "    return W, b"
   ]
  },
  {
   "cell_type": "markdown",
   "metadata": {},
   "source": [
    "The update rule is affected by regularization. We implement two cases: No regularization, or L2 regularization. Use the two possible update rules to implement the following function: <div class='alert alert-block alert-info'>\n",
    "            Code:</div>"
   ]
  },
  {
   "cell_type": "code",
   "execution_count": 17,
   "metadata": {},
   "outputs": [],
   "source": [
    "def updateParams(param, grad_param, eta, regularizer=None, weight_decay=0.):\n",
    "    \"\"\"\n",
    "    Perform the update of the parameters\n",
    "    Inputs: param: the network parameters - ndarray\n",
    "          : grad_param: the updates of the parameters - ndarray\n",
    "          : eta: the step-size of the gradient descent - float\n",
    "          : weight_decay: the weight-decay - float\n",
    "    Outputs: the parameters updated - ndarray\n",
    "    \"\"\"\n",
    "    if regularizer==None:\n",
    "        new_param = param - eta * grad_param\n",
    "        return new_param\n",
    "    elif regularizer=='L2':\n",
    "        new_param = (1 - 2 * weight_decay) * param - eta * grad_param\n",
    "        return new_param\n",
    "    else:\n",
    "        raise NotImplementedError"
   ]
  },
  {
   "cell_type": "markdown",
   "metadata": {},
   "source": [
    "### Computing the Accuracy\n",
    "\n",
    "Here, we simply use the model to predict the class (by taking the argmax of the output !) for every example in ```X```, and count the number of times the model is right, to output the accuracy.\n",
    "<div class='alert alert-block alert-info'>\n",
    "            Code:</div>"
   ]
  },
  {
   "cell_type": "code",
   "execution_count": 18,
   "metadata": {},
   "outputs": [],
   "source": [
    "def computeAcc(W, b, X, labels):\n",
    "    \"\"\"\n",
    "    Compute the loss value of the current network on the full batch\n",
    "    Inputs: act_func: the activation function - function\n",
    "          : W: the weights - list of ndarray\n",
    "          : B: the bias - list of ndarray\n",
    "          : X: the batch - ndarray\n",
    "          : labels: the labels corresponding to the batch\n",
    "    Outputs: loss: the negative log-likelihood - float\n",
    "           : accuracy: the ratio of examples that are well-classified - float\n",
    "    \"\"\" \n",
    "    # Forward propagation\n",
    "    z = forward(W, b, X)\n",
    "\n",
    "    # Compute the softmax and the prediction\n",
    "    out = softmax(z)\n",
    "    pred = np.argmax(out, axis=1)\n",
    "    \n",
    "    # Compute the accuracy\n",
    "    accuracy = np.sum(pred == np.argmax(labels, axis=1)) / labels.shape[0]\n",
    "      \n",
    "    return accuracy"
   ]
  },
  {
   "cell_type": "markdown",
   "metadata": {},
   "source": [
    "### Preparing training\n",
    "\n",
    "The following hyperparameters are given. Next, we can assemble all the function previously defined to implement a training loop. We will train the classifier on **one epoch**, meaning that the model will see each training example once. "
   ]
  },
  {
   "cell_type": "code",
   "execution_count": 19,
   "metadata": {},
   "outputs": [],
   "source": [
    "# Optimization\n",
    "eta = 0.01\n",
    "regularizer = 'L2'\n",
    "weight_decay = 0.0001\n",
    "\n",
    "# Training\n",
    "log_interval = 5000"
   ]
  },
  {
   "cell_type": "markdown",
   "metadata": {},
   "source": [
    "<div class='alert alert-block alert-info'>\n",
    "            Code:</div>"
   ]
  },
  {
   "cell_type": "code",
   "execution_count": null,
   "metadata": {},
   "outputs": [],
   "source": [
    "# Data structures for plotting\n",
    "g_train_acc=[]\n",
    "g_valid_acc=[]\n",
    "\n",
    "#######################\n",
    "### Learning process ##\n",
    "#######################\n",
    "for j in range(n_training):\n",
    "    # Getting the example\n",
    "    X, y = train_images[j], train_labels[j]\n",
    "\n",
    "    # Forward propagation\n",
    "    z = forward(W, b, X)\n",
    "\n",
    "    # Compute the softmax\n",
    "    out = softmax(z)\n",
    "        \n",
    "    # Compute the gradient at the top layer\n",
    "    derror = out - y # This is o - y \n",
    "\n",
    "    # Update the parameters\n",
    "    W, b = update(eta, W, b, derror, X, regularizer, weight_decay)\n",
    "\n",
    "    if j % log_interval == 0:\n",
    "        # Every log_interval examples, look at the training accuracy\n",
    "        train_accuracy = computeAcc(W, b, train_images, train_labels) \n",
    "\n",
    "        # And the testing accuracy\n",
    "        test_accuracy = computeAcc(W, b, test_images, test_labels) \n",
    "\n",
    "        g_train_acc.append(train_accuracy)\n",
    "        g_valid_acc.append(test_accuracy)\n",
    "        result_line = str(int(j)) + \" \" + str(train_accuracy) + \" \" + str(test_accuracy) + \" \" + str(eta)\n",
    "        print(result_line)\n",
    "\n",
    "g_train_acc.append(train_accuracy)\n",
    "g_valid_acc.append(test_accuracy)\n",
    "result_line = \"Final result:\" + \" \" + str(train_accuracy) + \" \" + str(test_accuracy) + \" \" + str(eta)\n",
    "print(result_line)     "
   ]
  },
  {
   "cell_type": "code",
   "execution_count": null,
   "metadata": {},
   "outputs": [
    {
     "data": {
      "image/png": "[encoded data removed]",
      "text/plain": [
       "<Figure size 640x480 with 1 Axes>"
      ]
     },
     "metadata": {},
     "output_type": "display_data"
    }
   ],
   "source": [
    "plt.plot(g_train_acc, label='Training accuracy')\n",
    "plt.plot(g_valid_acc, label='Testing accuracy')\n",
    "plt.legend()\n",
    "plt.show()"
   ]
  },
  {
   "cell_type": "markdown",
   "metadata": {},
   "source": [
    "What can you say about the performance of this simple linear classifier ?\n",
    "<div class='alert alert-block alert-warning'>\n",
    "            Answer:</div>"
   ]
  },
  {
   "cell_type": "markdown",
   "metadata": {},
   "source": [
    "It performs reasonably well. We can see that the accuracy is around 90% on the training set, and around 90% on the validation set.\n",
    "\n",
    "We tested with and without the L2 regularization and the impact was not very visible. The model is probably not complex enough to be overfitting."
   ]
  },
  {
   "cell_type": "markdown",
   "metadata": {},
   "source": [
    "# Second part: Autoencoder with Keras"
   ]
  },
  {
   "cell_type": "markdown",
   "metadata": {},
   "source": [
    "## Autoencoder and PCA\n",
    "\n",
    "First, we will try to connect the representation produced by Principal Component Analysis with what is learnt by a simple, linear, autoencoder. We will use the ```scikit-learn``` implementation of the ```PCA``` to obtain the two first components (hint: use the attribute ```.components_```), and visualize them:\n",
    "<div class='alert alert-block alert-info'>\n",
    "            Code:</div>"
   ]
  },
  {
   "cell_type": "code",
   "execution_count": null,
   "metadata": {},
   "outputs": [
    {
     "data": {
      "text/plain": [
       "Text(0.5, 0, 'Second Principal Component')"
      ]
     },
     "metadata": {},
     "output_type": "display_data"
    },
    {
     "data": {
      "image/png": "[encoded data removed]",
      "text/plain": [
       "<Figure size 640x480 with 2 Axes>"
      ]
     },
     "metadata": {},
     "output_type": "display_data"
    }
   ],
   "source": [
    "from sklearn.decomposition import PCA\n",
    "\n",
    "# Let's find the first 2 PCA components\n",
    "num_components = 2\n",
    "pca = PCA(n_components=num_components).fit(train_images)\n",
    "\n",
    "# Reshape so they resemble images and we can print them\n",
    "eigen_mnist = pca.components_.reshape(num_components, 28, 28)\n",
    "\n",
    "# Show the reshaped principal components\n",
    "f, ax = plt.subplots(1,2)\n",
    "ax[0].imshow(eigen_mnist[0], cmap='gray')\n",
    "ax[0].set_xlabel('First Principal Component')\n",
    "ax[1].imshow(eigen_mnist[1], cmap='gray')\n",
    "ax[1].set_xlabel('Second Principal Component')"
   ]
  },
  {
   "cell_type": "code",
   "execution_count": null,
   "metadata": {},
   "outputs": [
    {
     "data": {
      "text/plain": [
       "array([53.901363, 39.411945], dtype=float32)"
      ]
     },
     "metadata": {},
     "output_type": "display_data"
    }
   ],
   "source": [
    "# Print the variance explained by those components\n",
    "pca.explained_variance_"
   ]
  },
  {
   "cell_type": "markdown",
   "metadata": {},
   "source": [
    "Comment on the visualization in relation to the variance explained by only keeping the two principal components:\n",
    "<div class='alert alert-block alert-warning'>\n",
    "            Answer:</div>"
   ]
  },
  {
   "cell_type": "markdown",
   "metadata": {},
   "source": [
    "We see that the PCA gives us two shapes that are very common in the MNIST dataset (circles and some kind of 9 pattern). This is not surprising, as the PCA is trying to find the two directions that explain the most variance in the dataset."
   ]
  },
  {
   "cell_type": "markdown",
   "metadata": {},
   "source": [
    "### Implementing the Autoencoder with Keras"
   ]
  },
  {
   "cell_type": "code",
   "execution_count": null,
   "metadata": {},
   "outputs": [],
   "source": [
    "from tensorflow.keras.models import Model\n",
    "from tensorflow.keras.layers import Input, Dense\n",
    "from tensorflow.keras.optimizers import SGD"
   ]
  },
  {
   "cell_type": "markdown",
   "metadata": {},
   "source": [
    "Now, we will use Keras to implement the autoencoder. You can take a look at this [cheatsheet](https://s3.amazonaws.com/assets.datacamp.com/blog_assets/Keras_Cheat_Sheet_Python.pdf) for some basic commands to use keras.\n",
    "\n",
    "In this first case, we implement a **simple linear autoencoder**. Build it in order to have the same capacity as the PCA decomposition (2 hidden dimensions !) we made just above. \n",
    "<div class='alert alert-block alert-info'>\n",
    "            Code:</div>"
   ]
  },
  {
   "cell_type": "code",
   "execution_count": null,
   "metadata": {},
   "outputs": [
    {
     "name": "stdout",
     "output_type": "stream",
     "text": [
      "Model: \"ae_model\"\n",
      "_________________________________________________________________\n",
      " Layer (type)                Output Shape              Param #   \n",
      "=================================================================\n",
      " input_layer (InputLayer)    [(None, 784)]             0         \n",
      "                                                                 \n",
      " latent_view (Dense)         (None, 2)                 1570      \n",
      "                                                                 \n",
      " output_layer (Dense)        (None, 784)               2352      \n",
      "                                                                 \n",
      "=================================================================\n",
      "Total params: 3,922\n",
      "Trainable params: 3,922\n",
      "Non-trainable params: 0\n",
      "_________________________________________________________________\n"
     ]
    },
    {
     "name": "stderr",
     "output_type": "stream",
     "text": [
      "2023-04-07 16:31:29.543631: I tensorflow/compiler/xla/stream_executor/cuda/cuda_gpu_executor.cc:981] successful NUMA node read from SysFS had negative value (-1), but there must be at least one NUMA node, so returning NUMA node zero\n",
      "2023-04-07 16:31:29.697222: W tensorflow/compiler/xla/stream_executor/platform/default/dso_loader.cc:64] Could not load dynamic library 'libcudnn.so.8'; dlerror: libcudnn.so.8: cannot open shared object file: No such file or directory\n",
      "2023-04-07 16:31:29.697272: W tensorflow/core/common_runtime/gpu/gpu_device.cc:1934] Cannot dlopen some GPU libraries. Please make sure the missing libraries mentioned above are installed properly if you would like to use GPU. Follow the guide at https://www.tensorflow.org/install/gpu for how to download and setup the required libraries for your platform.\n",
      "Skipping registering GPU devices...\n",
      "2023-04-07 16:31:29.698262: I tensorflow/core/platform/cpu_feature_guard.cc:193] This TensorFlow binary is optimized with oneAPI Deep Neural Network Library (oneDNN) to use the following CPU instructions in performance-critical operations:  AVX2 FMA\n",
      "To enable them in other operations, rebuild TensorFlow with the appropriate compiler flags.\n"
     ]
    }
   ],
   "source": [
    "# Input layer\n",
    "input_layer = Input(shape=(784,), name='input_layer')\n",
    "\n",
    "# Encoding layer\n",
    "latent_view = Dense(2, activation='linear', name='latent_view')(input_layer)\n",
    "\n",
    "# Decoding layer\n",
    "output_layer = Dense(784, activation='sigmoid', name='output_layer')(latent_view)\n",
    "\n",
    "ae_model = Model(input_layer, output_layer, name='ae_model')\n",
    "ae_model.summary()"
   ]
  },
  {
   "cell_type": "markdown",
   "metadata": {},
   "source": [
    "What loss shoud we use ? Choose the usual one and import it directly from Keras. You can use a simple ```SGD``` optimizer, and then compile the model; finally, train it to rebuild images from the original examples. \n",
    "<div class='alert alert-block alert-info'>\n",
    "            Code:</div>"
   ]
  },
  {
   "cell_type": "markdown",
   "metadata": {},
   "source": [
    "Let's use the Mean Squared Error (MSE) as a loss function."
   ]
  },
  {
   "cell_type": "code",
   "execution_count": null,
   "metadata": {},
   "outputs": [
    {
     "name": "stdout",
     "output_type": "stream",
     "text": [
      "Epoch 1/10\n",
      "469/469 [==============================] - 3s 5ms/step - loss: 0.8152 - val_loss: 0.7530\n",
      "Epoch 2/10\n",
      "469/469 [==============================] - 2s 5ms/step - loss: 0.7466 - val_loss: 0.7474\n",
      "Epoch 3/10\n",
      "469/469 [==============================] - 2s 5ms/step - loss: 0.7426 - val_loss: 0.7439\n",
      "Epoch 4/10\n",
      "469/469 [==============================] - 2s 5ms/step - loss: 0.7387 - val_loss: 0.7400\n",
      "Epoch 5/10\n",
      "469/469 [==============================] - 2s 5ms/step - loss: 0.7355 - val_loss: 0.7368\n",
      "Epoch 6/10\n",
      "469/469 [==============================] - 3s 6ms/step - loss: 0.7326 - val_loss: 0.7338\n",
      "Epoch 7/10\n",
      "469/469 [==============================] - 2s 5ms/step - loss: 0.7300 - val_loss: 0.7315\n",
      "Epoch 8/10\n",
      "469/469 [==============================] - 2s 4ms/step - loss: 0.7277 - val_loss: 0.7292\n",
      "Epoch 9/10\n",
      "469/469 [==============================] - 2s 5ms/step - loss: 0.7258 - val_loss: 0.7275\n",
      "Epoch 10/10\n",
      "469/469 [==============================] - 2s 5ms/step - loss: 0.7242 - val_loss: 0.7258\n"
     ]
    }
   ],
   "source": [
    "from tensorflow.keras.losses import MSE\n",
    "loss = MSE\n",
    "\n",
    "optimizer = 'adam' #SGD(lr=1e-1) \n",
    "ae_model.compile(optimizer=optimizer, loss=loss) \n",
    "\n",
    "batch_size = 128\n",
    "epochs = 10\n",
    "# No noise here - we want to train a simple auto-encoder and compare visually with PCA\n",
    "history = ae_model.fit(train_images,\n",
    "                       train_images,\n",
    "                       epochs=epochs,\n",
    "                       batch_size=batch_size,\n",
    "                       verbose=1,\n",
    "                       shuffle=True,\n",
    "                       validation_data=(test_images, test_images))"
   ]
  },
  {
   "cell_type": "markdown",
   "metadata": {},
   "source": [
    "Assuming that the name of your layer (obtained through the command ```model.summary()```) is ```'layer'```, here is the way to obtained the weights. Visualize the weights of the encoder and compare them to the two components obtained through the PCA."
   ]
  },
  {
   "cell_type": "code",
   "execution_count": null,
   "metadata": {},
   "outputs": [],
   "source": [
    "weights, bias = ae_model.get_layer('latent_view').get_weights()"
   ]
  },
  {
   "cell_type": "markdown",
   "metadata": {},
   "source": [
    "<div class='alert alert-block alert-info'>\n",
    "            Code:</div>"
   ]
  },
  {
   "cell_type": "code",
   "execution_count": null,
   "metadata": {},
   "outputs": [
    {
     "data": {
      "text/plain": [
       "Text(0.5, 0, 'Second Principal Component')"
      ]
     },
     "metadata": {},
     "output_type": "display_data"
    },
    {
     "data": {
      "image/png": "[encoded data removed]",
      "text/plain": [
       "<Figure size 640x480 with 2 Axes>"
      ]
     },
     "metadata": {},
     "output_type": "display_data"
    }
   ],
   "source": [
    "# Show the two dimensions of the encoder, in a similar manner to the principal components\n",
    "# (after reshaping them as images !)\n",
    "\n",
    "f, ax = plt.subplots(1,2)\n",
    "ax[0].imshow(weights[:,0].reshape(28,28), cmap='gray')\n",
    "ax[0].set_xlabel('First Principal Component')\n",
    "ax[1].imshow(weights[:,1].reshape(28,28), cmap='gray')\n",
    "ax[1].set_xlabel('Second Principal Component')"
   ]
  },
  {
   "cell_type": "markdown",
   "metadata": {},
   "source": [
    "Now, visualize the images rebuilt by the network !\n",
    "<div class='alert alert-block alert-info'>\n",
    "            Code:</div>"
   ]
  },
  {
   "cell_type": "code",
   "execution_count": null,
   "metadata": {},
   "outputs": [
    {
     "name": "stdout",
     "output_type": "stream",
     "text": [
      "1/1 [==============================] - 0s 89ms/step\n"
     ]
    },
    {
     "data": {
      "image/png": "[encoded data removed]",
      "text/plain": [
       "<Figure size 640x480 with 5 Axes>"
      ]
     },
     "metadata": {},
     "output_type": "display_data"
    },
    {
     "data": {
      "image/png": "[encoded data removed]",
      "text/plain": [
       "<Figure size 640x480 with 5 Axes>"
      ]
     },
     "metadata": {},
     "output_type": "display_data"
    }
   ],
   "source": [
    "# Select a few images at random: look from n\n",
    "n = np.random.randint(0,len(test_images)-5)\n",
    "\n",
    "# Plot a few images from n  \n",
    "f, ax = plt.subplots(1,5)\n",
    "for i,a in enumerate(range(n,n+5)):\n",
    "    ax[i].imshow(test_images[a].reshape(28,28), cmap='gray')\n",
    "    ax[i].set_xlabel('Label: ' + str(np.argmax(test_labels[a])))\n",
    "    \n",
    "# Get the prediction from the model \n",
    "pred = ae_model.predict(test_images[n:n+5])\n",
    "\n",
    "# ... and plot them \n",
    "f, ax = plt.subplots(1,5)\n",
    "for i,a in enumerate(range(n,n+5)):\n",
    "    ax[i].imshow(pred[i].reshape(28,28), cmap='gray')\n",
    "    ax[i].set_xlabel('Label: ' + str(np.argmax(test_labels[a])))"
   ]
  },
  {
   "cell_type": "markdown",
   "metadata": {},
   "source": [
    "Do the same ( = build a new model) with a latent dimension that is largely higher than 2. Compare the visualizations and the images that are rebuilt. \n",
    "<div class='alert alert-block alert-info'>\n",
    "            Code:</div>"
   ]
  },
  {
   "cell_type": "code",
   "execution_count": null,
   "metadata": {},
   "outputs": [
    {
     "name": "stdout",
     "output_type": "stream",
     "text": [
      "Model: \"ae_model\"\n",
      "_________________________________________________________________\n",
      " Layer (type)                Output Shape              Param #   \n",
      "=================================================================\n",
      " input_layer (InputLayer)    [(None, 784)]             0         \n",
      "                                                                 \n",
      " latent_view (Dense)         (None, 256)               200960    \n",
      "                                                                 \n",
      " output_layer (Dense)        (None, 784)               201488    \n",
      "                                                                 \n",
      "=================================================================\n",
      "Total params: 402,448\n",
      "Trainable params: 402,448\n",
      "Non-trainable params: 0\n",
      "_________________________________________________________________\n"
     ]
    }
   ],
   "source": [
    "# Input layer\n",
    "input_layer = Input(shape=(784,), name='input_layer')\n",
    "\n",
    "# Encoding layer\n",
    "latent_view = Dense(256, activation='linear', name='latent_view')(input_layer)\n",
    "\n",
    "# Decoding layer\n",
    "output_layer = Dense(784, activation='sigmoid', name='output_layer')(latent_view)\n",
    "\n",
    "ae_model = Model(input_layer, output_layer, name='ae_model')\n",
    "ae_model.summary()"
   ]
  },
  {
   "cell_type": "code",
   "execution_count": null,
   "metadata": {},
   "outputs": [
    {
     "name": "stdout",
     "output_type": "stream",
     "text": [
      "Epoch 1/10\n",
      "469/469 [==============================] - 6s 12ms/step - loss: 0.5427 - val_loss: 0.4951\n",
      "Epoch 2/10\n",
      "469/469 [==============================] - 6s 13ms/step - loss: 0.4826 - val_loss: 0.4832\n",
      "Epoch 3/10\n",
      "469/469 [==============================] - 6s 12ms/step - loss: 0.4753 - val_loss: 0.4797\n",
      "Epoch 4/10\n",
      "469/469 [==============================] - 6s 13ms/step - loss: 0.4725 - val_loss: 0.4779\n",
      "Epoch 5/10\n",
      "469/469 [==============================] - 6s 13ms/step - loss: 0.4710 - val_loss: 0.4767\n",
      "Epoch 6/10\n",
      "469/469 [==============================] - 6s 12ms/step - loss: 0.4699 - val_loss: 0.4759\n",
      "Epoch 7/10\n",
      "469/469 [==============================] - 6s 13ms/step - loss: 0.4692 - val_loss: 0.4751\n",
      "Epoch 8/10\n",
      "469/469 [==============================] - 6s 12ms/step - loss: 0.4685 - val_loss: 0.4746\n",
      "Epoch 9/10\n",
      "469/469 [==============================] - 6s 13ms/step - loss: 0.4680 - val_loss: 0.4741\n",
      "Epoch 10/10\n",
      "469/469 [==============================] - 6s 13ms/step - loss: 0.4675 - val_loss: 0.4738\n"
     ]
    }
   ],
   "source": [
    "loss = MSE\n",
    "\n",
    "optimizer = 'adam' #SGD(lr=1e-1) \n",
    "ae_model.compile(optimizer=optimizer, loss=loss) \n",
    "\n",
    "batch_size = 128\n",
    "epochs = 10\n",
    "# No noise here - we want to train a simple auto-encoder and compare visually with PCA\n",
    "history = ae_model.fit(train_images,\n",
    "                       train_images,\n",
    "                       epochs=epochs,\n",
    "                       batch_size=batch_size,\n",
    "                       verbose=1,\n",
    "                       shuffle=True,\n",
    "                       validation_data=(test_images, test_images))"
   ]
  },
  {
   "cell_type": "code",
   "execution_count": null,
   "metadata": {},
   "outputs": [
    {
     "name": "stdout",
     "output_type": "stream",
     "text": [
      "1/1 [==============================] - 0s 63ms/step\n"
     ]
    },
    {
     "data": {
      "image/png": "[encoded data removed]",
      "text/plain": [
       "<Figure size 640x480 with 5 Axes>"
      ]
     },
     "metadata": {},
     "output_type": "display_data"
    },
    {
     "data": {
      "image/png": "[encoded data removed]",
      "text/plain": [
       "<Figure size 640x480 with 5 Axes>"
      ]
     },
     "metadata": {},
     "output_type": "display_data"
    }
   ],
   "source": [
    "# Select a few images at random: look from n\n",
    "n = np.random.randint(0,len(test_images)-5)\n",
    "\n",
    "# Plot a few images from n  \n",
    "f, ax = plt.subplots(1,5)\n",
    "for i,a in enumerate(range(n,n+5)):\n",
    "    ax[i].imshow(test_images[a].reshape(28,28), cmap='gray')\n",
    "    ax[i].set_xlabel('Label: ' + str(np.argmax(test_labels[a])))\n",
    "    \n",
    "# Get the prediction from the model \n",
    "pred = ae_model.predict(test_images[n:n+5])\n",
    "\n",
    "# ... and plot them \n",
    "f, ax = plt.subplots(1,5)\n",
    "for i,a in enumerate(range(n,n+5)):\n",
    "    ax[i].imshow(pred[i].reshape(28,28), cmap='gray')\n",
    "    ax[i].set_xlabel('Label: ' + str(np.argmax(test_labels[a])))"
   ]
  },
  {
   "cell_type": "markdown",
   "metadata": {},
   "source": [
    "We can distinguish the numbers more easily, but this is far from good enough. We tried changing SGD to Adam, and it helped tremendously. "
   ]
  },
  {
   "cell_type": "markdown",
   "metadata": {},
   "source": [
    "### Bonus: De-noising Autoencoder\n",
    "\n",
    "Now, we can implement a **de-noising autoencoder**. The following function will transform an array of images by adding it random noise. Create a new autoencoder model, this time with **more layers** and **non-linear activations** (like the ReLU) and train it to rebuild the de-noised images. Display some testing images, with noise, and re-built."
   ]
  },
  {
   "cell_type": "code",
   "execution_count": null,
   "metadata": {},
   "outputs": [],
   "source": [
    "def noise(array):\n",
    "    \"\"\"\n",
    "    Adds random noise to each image in the supplied array.\n",
    "    \"\"\"\n",
    "    noise_factor = 0.4\n",
    "    noisy_array = array + noise_factor * np.random.normal(\n",
    "        loc=0.0, scale=1.0, size=array.shape\n",
    "    )\n",
    "    return noisy_array"
   ]
  },
  {
   "cell_type": "code",
   "execution_count": null,
   "metadata": {},
   "outputs": [],
   "source": [
    "# Create a copy of the data with added noise\n",
    "noisy_train_images = noise(train_images)\n",
    "noisy_test_images = noise(test_images)"
   ]
  },
  {
   "cell_type": "markdown",
   "metadata": {},
   "source": [
    "<div class='alert alert-block alert-info'>\n",
    "            Code:</div>"
   ]
  },
  {
   "cell_type": "code",
   "execution_count": null,
   "metadata": {},
   "outputs": [
    {
     "name": "stdout",
     "output_type": "stream",
     "text": [
      "Model: \"ae_model\"\n",
      "_________________________________________________________________\n",
      " Layer (type)                Output Shape              Param #   \n",
      "=================================================================\n",
      " input_layer (InputLayer)    [(None, 784)]             0         \n",
      "                                                                 \n",
      " hidden_layer_1 (Dense)      (None, 256)               200960    \n",
      "                                                                 \n",
      " latent_view (Dense)         (None, 256)               65792     \n",
      "                                                                 \n",
      " hidden_layer_4 (Dense)      (None, 256)               65792     \n",
      "                                                                 \n",
      " output_layer (Dense)        (None, 784)               201488    \n",
      "                                                                 \n",
      "=================================================================\n",
      "Total params: 534,032\n",
      "Trainable params: 534,032\n",
      "Non-trainable params: 0\n",
      "_________________________________________________________________\n",
      "Epoch 1/10\n",
      "469/469 [==============================] - 9s 16ms/step - loss: 0.6105 - val_loss: 0.5573\n",
      "Epoch 2/10\n",
      "469/469 [==============================] - 7s 15ms/step - loss: 0.5471 - val_loss: 0.5473\n",
      "Epoch 3/10\n",
      "469/469 [==============================] - 6s 13ms/step - loss: 0.5409 - val_loss: 0.5443\n",
      "Epoch 4/10\n",
      "469/469 [==============================] - 6s 13ms/step - loss: 0.5390 - val_loss: 0.5429\n",
      "Epoch 5/10\n",
      "469/469 [==============================] - 7s 14ms/step - loss: 0.5370 - val_loss: 0.5410\n",
      "Epoch 6/10\n",
      "469/469 [==============================] - 7s 14ms/step - loss: 0.5353 - val_loss: 0.5399\n",
      "Epoch 7/10\n",
      "469/469 [==============================] - 6s 13ms/step - loss: 0.5345 - val_loss: 0.5389\n",
      "Epoch 8/10\n",
      "469/469 [==============================] - 8s 17ms/step - loss: 0.5336 - val_loss: 0.5382\n",
      "Epoch 9/10\n",
      "469/469 [==============================] - 9s 18ms/step - loss: 0.5332 - val_loss: 0.5383\n",
      "Epoch 10/10\n",
      "469/469 [==============================] - 6s 12ms/step - loss: 0.5330 - val_loss: 0.5380\n",
      "1/1 [==============================] - 0s 72ms/step\n"
     ]
    },
    {
     "data": {
      "image/png": "[encoded data removed]",
      "text/plain": [
       "<Figure size 640x480 with 5 Axes>"
      ]
     },
     "metadata": {},
     "output_type": "display_data"
    },
    {
     "data": {
      "image/png": "[encoded data removed]",
      "text/plain": [
       "<Figure size 640x480 with 5 Axes>"
      ]
     },
     "metadata": {},
     "output_type": "display_data"
    }
   ],
   "source": [
    "# Visualize some of the images with noise against the originals\n",
    "f, ax = plt.subplots(1,5)\n",
    "for i,a in enumerate(range(n,n+5)):\n",
    "    ax[i].imshow(noisy_test_images[a].reshape(28,28), cmap='gray')\n",
    "    ax[i].set_xlabel('Label: ' + str(np.argmax(test_labels[a])))\n",
    "\n",
    "\n",
    "# Build a new model with more layers and Relu activations\n",
    "input_layer = Input(shape=(784,), name='input_layer')\n",
    "\n",
    "hidden_layer_1 = Dense(256, activation='relu', name='hidden_layer_1')(input_layer)\n",
    "\n",
    "latent_view = Dense(256, activation='linear', name='latent_view')(hidden_layer_1)\n",
    "\n",
    "hidden_layer_2 = Dense(256, activation='relu', name='hidden_layer_4')(latent_view)\n",
    "\n",
    "# Decoding layer\n",
    "output_layer = Dense(784, activation='sigmoid', name='output_layer')(hidden_layer_2)\n",
    "\n",
    "ae_model = Model(input_layer, output_layer, name='ae_model')\n",
    "ae_model.summary()\n",
    "\n",
    "\n",
    "# Compile it but here, use noised data as inputs !\n",
    "loss = MSE\n",
    "\n",
    "optimizer = 'adam'\n",
    "\n",
    "ae_model.compile(optimizer=optimizer, loss=loss)\n",
    "\n",
    "batch_size = 128\n",
    "\n",
    "epochs = 10\n",
    "\n",
    "# fit the model to the noisy training data\n",
    "history = ae_model.fit(noisy_train_images,\n",
    "                          train_images,\n",
    "                            epochs=epochs,\n",
    "                            batch_size=batch_size,\n",
    "                            verbose=1,\n",
    "                            shuffle=True,\n",
    "                            validation_data=(noisy_test_images, test_images))\n",
    "\n",
    "\n",
    "# Visualize the images rebuilt by the model !\n",
    "pred = ae_model.predict(noisy_test_images[n:n+5])\n",
    "f, ax = plt.subplots(1,5)\n",
    "for i,a in enumerate(range(n,n+5)):\n",
    "    ax[i].imshow(pred[i].reshape(28,28), cmap='gray')\n",
    "    ax[i].set_xlabel('Label: ' + str(np.argmax(test_labels[a])))\n"
   ]
  },
  {
   "cell_type": "markdown",
   "metadata": {},
   "source": [
    "Assuming that we normalize the images to be in the 0-1 range, what other loss function could we use ?\n",
    "<div class='alert alert-block alert-warning'>\n",
    "            Answer:</div>"
   ]
  },
  {
   "cell_type": "markdown",
   "metadata": {},
   "source": [
    "We can use the Hinge Loss when working in the 0-1 range."
   ]
  }
 ],
 "metadata": {
  "kernelspec": {
   "display_name": "datascience",
   "language": "python",
   "name": "python3"
  },
  "language_info": {
   "codemirror_mode": {
    "name": "ipython",
    "version": 3
   },
   "file_extension": ".py",
   "mimetype": "text/x-python",
   "name": "python",
   "nbconvert_exporter": "python",
   "pygments_lexer": "ipython3",
   "version": "3.9.16"
  },
  "orig_nbformat": 4
 },
 "nbformat": 4,
 "nbformat_minor": 2
}
